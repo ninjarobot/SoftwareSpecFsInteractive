{
  "cells": [
    {
      "cell_type": "markdown",
      "metadata": {},
      "source": [
        "## Defining a Software Specification\n",
        "\n",
        "With F#, we are able to choose between working in a higher level language or lower level details. When we are able to represent our application logic entirely in higher level terminology, this gives us a software specification to reach a shared understanding of what will be implemented without going into the implementation details. This is useful for comminicating with stakeholders while also keeping the specification true to the implementation.\n",
        "\n",
        "There is a need to understand a subset of the F# language, but we can keep this to a minimum by explicitly defining types in understandable chunks and leaving out any implementation details. This gives us a balance of a shared language for our domain and a buildable specification.\n",
        "\n",
        "We will work through an example of a simple feature using this technique. We will also take advantage of [interactive notebooks](https://github.com/dotnet/interactive) to compile the specification itself.\n",
        "\n",
        "### Feature Requirement\n",
        "\n",
        "Split a string into words and give a count of how often each word appears."
      ]
    },
    {
      "cell_type": "code",
      "execution_count": null,
      "metadata": {
        "dotnet_interactive": {
          "language": "fsharp"
        }
      },
      "outputs": [],
      "source": [
        "type WordCount = WordCount of Word:string * Count:int\n",
        "\n",
        "type CountWords = string -> WordCount seq"
      ]
    },
    {
      "cell_type": "markdown",
      "metadata": {},
      "source": [
        "### There are a few steps to implement.\n",
        "\n",
        "1. First we have to split the string.\n",
        "2. Then any words will need to be normalized, removing punctuation and casing.\n",
        "3. Then we have to iterate through and count the number of occurrances of each word."
      ]
    },
    {
      "cell_type": "code",
      "execution_count": null,
      "metadata": {
        "dotnet_interactive": {
          "language": "fsharp"
        }
      },
      "outputs": [],
      "source": [
        "type SplitIntoWords = string -> string seq\n",
        "\n",
        "type NormalizeWords = string seq -> string seq\n",
        "\n",
        "type CountEachWord = string seq -> WordCount seq"
      ]
    },
    {
      "cell_type": "markdown",
      "metadata": {},
      "source": [
        "Now we have broken down our overall feature into the steps that make it up. We should ensure our types fit together by composing the pieces together."
      ]
    },
    {
      "cell_type": "code",
      "execution_count": null,
      "metadata": {
        "dotnet_interactive": {
          "language": "fsharp"
        }
      },
      "outputs": [],
      "source": [
        "/// Splits a string of text into words and creates a summary of the word counts.\n",
        "let countWords\n",
        "    (split:SplitIntoWords)\n",
        "    (normalizeWords:NormalizeWords)\n",
        "    (countEach:CountEachWord)\n",
        "    : CountWords =\n",
        "    split >> normalizeWords >> countEach"
      ]
    },
    {
      "cell_type": "markdown",
      "metadata": {},
      "source": [
        "**Isn't this implementation?**\n",
        "\n",
        "An implementation contains lower level code and logic - the _implementation details_ - and these are really missing here. This is a definition of part of the specification in terms of itself by composing it from other parts of the spec. It does actually compile, giving us confidence that our specification is correct and will keep us honest if we need to change our specification."
      ]
    },
    {
      "cell_type": "markdown",
      "metadata": {},
      "source": [
        "### Further Normalization\n",
        "\n",
        "Normalizing the words could be broken down further into the normalization to do on each word.\n",
        "\n",
        "* Removing the punctuation\n",
        "* Changing them to lowercase\n",
        "\n",
        "First, let's define a general type for normalizing a word."
      ]
    },
    {
      "cell_type": "code",
      "execution_count": null,
      "metadata": {
        "dotnet_interactive": {
          "language": "fsharp"
        }
      },
      "outputs": [],
      "source": [
        "type NormalizeWord = string -> string"
      ]
    },
    {
      "cell_type": "markdown",
      "metadata": {},
      "source": [
        "Then define the types for the specific normalizations we want to do."
      ]
    },
    {
      "cell_type": "code",
      "execution_count": null,
      "metadata": {
        "dotnet_interactive": {
          "language": "fsharp"
        }
      },
      "outputs": [],
      "source": [
        "type RemovePunctuation = string -> string\n",
        "\n",
        "type LowerCase = string -> string"
      ]
    },
    {
      "cell_type": "markdown",
      "metadata": {},
      "source": [
        "Yes, these are the same type, but it's useful to break these out so that we can implement them separately and specify their composition. Let's do that now."
      ]
    },
    {
      "cell_type": "code",
      "execution_count": null,
      "metadata": {
        "dotnet_interactive": {
          "language": "fsharp"
        }
      },
      "outputs": [],
      "source": [
        "let normalizeWord\n",
        "    (removePunctuation:RemovePunctuation)\n",
        "    (lowerCase:LowerCase)\n",
        "    : NormalizeWord =\n",
        "    removePunctuation >> lowerCase"
      ]
    },
    {
      "cell_type": "markdown",
      "metadata": {},
      "source": [
        "Our spec actually takes `NormalizeWords` rather than `NormalizeWord` because it operates over a sequence of words. We can specify that here as well. The `Seq.map` terminology remains high level, similar to the composition operator `>>` so we can use it in our spec without getting into the implementation details of working in a collection. "
      ]
    },
    {
      "cell_type": "code",
      "execution_count": null,
      "metadata": {
        "dotnet_interactive": {
          "language": "fsharp"
        }
      },
      "outputs": [],
      "source": [
        "let normalizeWords\n",
        "    (normalizeWord:NormalizeWord)\n",
        "    : NormalizeWords =\n",
        "    Seq.map normalizeWord"
      ]
    },
    {
      "cell_type": "markdown",
      "metadata": {},
      "source": [
        "## Implementation\n",
        "\n",
        "At this point, we we have a high level specification that everyone can agree on and understand. By purposefully leaving out implementation specifics and keeping this in common domain terminology, we are able to reach a specification that is inclusive and relevant to everyone involved in the process.\n",
        "\n",
        "We can now implement the specification, which is normally done in a development environment and not part of the specification. "
      ]
    },
    {
      "cell_type": "code",
      "execution_count": null,
      "metadata": {
        "dotnet_interactive": {
          "language": "fsharp"
        }
      },
      "outputs": [],
      "source": [
        "open System\n",
        "\n",
        "// Implement the function types that were defined in the specification.\n",
        "\n",
        "let split : SplitIntoWords =\n",
        "    fun input ->\n",
        "        input.Split((null:char array),StringSplitOptions.RemoveEmptyEntries)\n",
        "\n",
        "let countEach : CountEachWord =\n",
        "    fun (words:string seq) ->\n",
        "        query {\n",
        "            for word in words do\n",
        "            groupBy word into wordGroup\n",
        "            let count = \n",
        "                query { \n",
        "                    for word in wordGroup do\n",
        "                    select word\n",
        "                    count\n",
        "                }\n",
        "            select (wordGroup.Key, count)\n",
        "        }\n",
        "        |> Seq.sortByDescending snd\n",
        "        |> Seq.map WordCount\n",
        "\n",
        "let removePunctuation : RemovePunctuation =\n",
        "    fun word ->\n",
        "        System.Text.RegularExpressions.Regex.Replace(word, \"[^A-Za-z0-9 -]\", \"\")\n",
        "\n",
        "let lowerCase : LowerCase =\n",
        "    fun word -> word.ToLowerInvariant()\n",
        "\n",
        "module Implementation =\n",
        "\n",
        "    let normalizeWord : NormalizeWord = normalizeWord removePunctuation lowerCase\n",
        "    let normalizeWords : NormalizeWords = normalizeWords normalizeWord\n",
        "    let countWords : CountWords = countWords split normalizeWords countEach\n"
      ]
    },
    {
      "cell_type": "markdown",
      "metadata": {},
      "source": [
        "The specification gets into lower level details, using language features like query expressions and framework features like the `String.Split` and `Regex.Replace` functions. Not only is it lower level, but it is no longer defined entirely in generic domain terms, using techniques and terminology that are exclusive to the implementor.\n",
        "\n",
        "But the big question, was our spec accurate and does this actually work? Let's put the pieces together and try it."
      ]
    },
    {
      "cell_type": "code",
      "execution_count": null,
      "metadata": {
        "dotnet_interactive": {
          "language": "fsharp"
        }
      },
      "outputs": [
        {
          "data": {
            "text/html": [
              "<table><thead><tr><th><i>index</i></th><th>Word</th><th>Count</th></tr></thead><tbody><tr><td>0</td><td>this</td><td><div class=\"dni-plaintext\">2</div></td></tr><tr><td>1</td><td>is</td><td><div class=\"dni-plaintext\">2</div></td></tr><tr><td>2</td><td>a</td><td><div class=\"dni-plaintext\">2</div></td></tr><tr><td>3</td><td>test</td><td><div class=\"dni-plaintext\">2</div></td></tr><tr><td>4</td><td>of</td><td><div class=\"dni-plaintext\">1</div></td></tr><tr><td>5</td><td>the</td><td><div class=\"dni-plaintext\">1</div></td></tr><tr><td>6</td><td>emergency</td><td><div class=\"dni-plaintext\">1</div></td></tr><tr><td>7</td><td>broadcast</td><td><div class=\"dni-plaintext\">1</div></td></tr><tr><td>8</td><td>system</td><td><div class=\"dni-plaintext\">1</div></td></tr><tr><td>9</td><td>only</td><td><div class=\"dni-plaintext\">1</div></td></tr></tbody></table>"
            ]
          },
          "metadata": {},
          "output_type": "display_data"
        }
      ],
      "source": [
        "let input = \"This is a test of the emergency broadcast system. This is only a test.\"\n",
        "Implementation.countWords input"
      ]
    },
    {
      "cell_type": "markdown",
      "metadata": {},
      "source": [
        "It worked fine on a sample where we can easily read all the data, so now for a real test."
      ]
    },
    {
      "cell_type": "code",
      "execution_count": null,
      "metadata": {
        "dotnet_interactive": {
          "language": "fsharp"
        }
      },
      "outputs": [
        {
          "data": {
            "text/html": [
              "<table><thead><tr><th><i>index</i></th><th>Word</th><th>Count</th></tr></thead><tbody><tr><td>0</td><td>the</td><td><div class=\"dni-plaintext\">233</div></td></tr><tr><td>1</td><td>and</td><td><div class=\"dni-plaintext\">211</div></td></tr><tr><td>2</td><td>a</td><td><div class=\"dni-plaintext\">136</div></td></tr><tr><td>3</td><td>i</td><td><div class=\"dni-plaintext\">122</div></td></tr><tr><td>4</td><td>to</td><td><div class=\"dni-plaintext\">107</div></td></tr><tr><td>5</td><td>was</td><td><div class=\"dni-plaintext\">87</div></td></tr><tr><td>6</td><td>of</td><td><div class=\"dni-plaintext\">85</div></td></tr><tr><td>7</td><td>that</td><td><div class=\"dni-plaintext\">81</div></td></tr><tr><td>8</td><td>it</td><td><div class=\"dni-plaintext\">80</div></td></tr><tr><td>9</td><td>you</td><td><div class=\"dni-plaintext\">80</div></td></tr><tr><td>10</td><td>is</td><td><div class=\"dni-plaintext\">67</div></td></tr><tr><td>11</td><td>in</td><td><div class=\"dni-plaintext\">55</div></td></tr><tr><td>12</td><td>said</td><td><div class=\"dni-plaintext\">50</div></td></tr><tr><td>13</td><td>my</td><td><div class=\"dni-plaintext\">44</div></td></tr><tr><td>14</td><td>he</td><td><div class=\"dni-plaintext\">39</div></td></tr><tr><td>15</td><td>because</td><td><div class=\"dni-plaintext\">37</div></td></tr><tr><td>16</td><td>they</td><td><div class=\"dni-plaintext\">36</div></td></tr><tr><td>17</td><td>are</td><td><div class=\"dni-plaintext\">34</div></td></tr><tr><td>18</td><td>not</td><td><div class=\"dni-plaintext\">33</div></td></tr><tr><td>19</td><td>me</td><td><div class=\"dni-plaintext\">33</div></td></tr><tr><td colspan=\"3\"><i>... (more)</i></td></tr></tbody></table>"
            ]
          },
          "metadata": {},
          "output_type": "display_data"
        }
      ],
      "source": [
        "let http = new System.Net.Http.HttpClient()\n",
        "let input = http.GetStringAsync(\"http://catdir.loc.gov/catdir/samples/random045/2002031355.html\").Result\n",
        "\n",
        "Implementation.countWords input\n"
      ]
    },
    {
      "cell_type": "markdown",
      "metadata": {},
      "source": [
        "## Summary\n",
        "\n",
        "We've created a software specification by defining our application in high level terminology that everyone can communicate in, including our compiler so it can help us manage change."
      ]
    }
  ],
  "metadata": {
    "kernelspec": {
      "display_name": ".NET (F#)",
      "language": "F#",
      "name": ".net-fsharp"
    },
    "language_info": {
      "file_extension": ".fs",
      "mimetype": "text/x-fsharp",
      "name": "F#",
      "pygments_lexer": "fsharp",
      "version": "6.0"
    }
  },
  "nbformat": 4,
  "nbformat_minor": 4
}
